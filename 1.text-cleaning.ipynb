{
  "cells": [
    {
      "cell_type": "markdown",
      "metadata": {},
      "source": [
        "## Text Preprocessing for Italian Documents"
      ]
    },
    {
      "cell_type": "markdown",
      "metadata": {},
      "source": [
        "### Import packages"
      ]
    },
    {
      "cell_type": "code",
      "execution_count": null,
      "metadata": {},
      "outputs": [],
      "source": [
        "# %pip install bs4 nltk seaborn wordcloud autocorrect"
      ]
    },
    {
      "cell_type": "code",
      "execution_count": 19,
      "metadata": {},
      "outputs": [],
      "source": [
        "import os\n",
        "import pickle\n",
        "import pandas as pd\n",
        "import re\n",
        "import matplotlib.pyplot as plt\n",
        "from bs4 import BeautifulSoup\n",
        "import nltk\n",
        "from nltk.corpus import stopwords\n",
        "from nltk.stem import SnowballStemmer\n",
        "from collections import Counter\n",
        "import matplotlib.pyplot as plt\n",
        "import seaborn as sns\n",
        "from wordcloud import WordCloud\n",
        "import itertools\n",
        "from autocorrect import Speller\n",
        "\n",
        "# Set a clean visual style\n",
        "sns.set_theme(style=\"whitegrid\", context=\"notebook\")  # or \"talk\" for presentations\n",
        "\n"
      ]
    },
    {
      "cell_type": "markdown",
      "metadata": {},
      "source": [
        "### Load NLTK resources (from the **resources** folder)"
      ]
    },
    {
      "cell_type": "markdown",
      "metadata": {},
      "source": [
        "This setup is needed because there is a known bug with **italian** resources"
      ]
    },
    {
      "cell_type": "code",
      "execution_count": 20,
      "metadata": {},
      "outputs": [],
      "source": [
        "# Add resource folder to path\n",
        "base_dir = os.getcwd()  # use working dir\n",
        "resources_path = os.path.join(base_dir, \"resources\")\n",
        "\n",
        "# Load italian tokenize\n",
        "with open(os.path.join(resources_path, \"italian_py3.pickle\"), 'rb') as f:\n",
        "    italian_tokenizer = pickle.load(f)\n",
        "\n",
        "# Load italian stopwords\n",
        "with open(os.path.join(resources_path, \"stopwords_it.txt\"), 'r', encoding='utf-8') as f:\n",
        "    stop_words = set(line.strip() for line in f if line.strip())"
      ]
    },
    {
      "cell_type": "markdown",
      "metadata": {},
      "source": [
        "### Import dataset from **Hugging Face** (optional)"
      ]
    },
    {
      "cell_type": "code",
      "execution_count": null,
      "metadata": {},
      "outputs": [],
      "source": [
        "#pip install datasets\n",
        "\n",
        "# from datasets import load_dataset\n",
        "\n",
        "# Load the CHANGE-IT dataset from Hugging Face\n",
        "# dataset = load_dataset(\"gsarti/change_it\", split=\"train\")\n",
        "\n",
        "# Convert Hugging Face dataset to Pandas DataFrame\n",
        "# df = dataset.to_pandas()\n"
      ]
    },
    {
      "cell_type": "markdown",
      "metadata": {},
      "source": [
        "### Sample **change-it** public dataset (optional)"
      ]
    },
    {
      "cell_type": "code",
      "execution_count": null,
      "metadata": {},
      "outputs": [],
      "source": [
        "# I generate the datasets sampling change-it datasets (you don't need to run this code)\n",
        "\n",
        "# SAMPLE_FRAC = 0.01 # 1% sample\n",
        "\n",
        "# Load datasets\n",
        "# df_repubblica = pd.read_csv(\"change-it/change-it.repubblica.train.csv\", sep=',')\n",
        "# df_ilgiornale = pd.read_csv(\"change-it/change-it.ilgiornale.train.csv\", sep=',')\n",
        "\n",
        "# Estract a 1% sample\n",
        "# df_repubblica_sample = df_repubblica.sample(frac=SAMPLE_FRAC, random_state=42)\n",
        "# df_ilgiornale_sample = df_ilgiornale.sample(frac=SAMPLE_FRAC, random_state=42)\n",
        "\n",
        "# Salva the sample\n",
        "# df_repubblica_sample.to_csv(\"data/repubblica_sample.csv\", index=False)\n",
        "# df_ilgiornale_sample.to_csv(\"data/ilgiornale_sample.csv\", index=False)"
      ]
    },
    {
      "cell_type": "markdown",
      "metadata": {},
      "source": [
        "### Load dataset (stored in **data** folder)"
      ]
    },
    {
      "cell_type": "code",
      "execution_count": 21,
      "metadata": {},
      "outputs": [
        {
          "name": "stdout",
          "output_type": "stream",
          "text": [
            "Index(['headline', 'full_text', 'newspaper'], dtype='object')\n"
          ]
        },
        {
          "data": {
            "application/vnd.microsoft.datawrangler.viewer.v0+json": {
              "columns": [
                {
                  "name": "index",
                  "rawType": "int64",
                  "type": "integer"
                },
                {
                  "name": "headline",
                  "rawType": "object",
                  "type": "string"
                },
                {
                  "name": "full_text",
                  "rawType": "object",
                  "type": "string"
                },
                {
                  "name": "newspaper",
                  "rawType": "object",
                  "type": "string"
                }
              ],
              "conversionMethod": "pd.DataFrame",
              "ref": "f1af70d1-5bc9-4654-8877-549ce71e79af",
              "rows": [
                [
                  "0",
                  "Francia, treno travolge scuolabus: cinque studenti morti, una ventina di feriti",
                  "PARIGI - Uno scuolabus è stato travolto da un treno a un passaggio a livello nel comune di Millas, a 15 chilometri da Perpignan, nel sud-ovest della Francia, non lontano dal confine spagnolo. Dopo le prime informazioni diffuse dai media, il ministero dell'Interno ha fatto un primo bilancio: cinque le vittime, tutti studenti. Morti sul colpo. Stamattina era stato comunicato il decesso di altre due bambine di 11 anni, ma la prefettura ha poi ritrattato, smentendo la notizia. \"Per il momento il bilancio non è cambiato ed è di 4 morti dopo conferma degli ospedali\", ha scritto su Twitter la prefettura dei Pirenei-Orientali. Le autorità hanno poi annunciato la morte di un quinto bambino. Dei 15 feriti, alcuni sono gravi. Il prefetto della regione, Philippe Vignes , ha parlato del luogo dell'incidente come di una 'scena di guerra'. Lo scuolabus trasportava 19 studenti, ragazzi tra i 13 e i 17 anni. \"Sul treno viaggiavano invece 25 passeggeri\", ha fatto sapere il portavoce di Sncf, l'authority del trasporto ferroviario francese. I feriti sono stati ricoverati negli ospedali dell'area di Perpignan. È stato attivato un numero di emergenza. La donna che guidava il pullman, 48 anni, è tra i feriti ed è in condizioni gravi. Tre le inchieste aperte: una giudiziaria sotto l'autorità del procuratore, una amministrativa del ministero dei Trasporti e l'ultima interna alla Sncf. Francia, lo scuolabus spezzato in due dal treno. In serata è arrivato a Millas il primo ministro Edouard Philippe , raggiunto dalla notizia nel pomeriggio mentre si trovava a Cahors, dipartimento del Lot, per partecipare alla Conferenza nazionale dei territori. \"Tutti i miei pensieri sono per le vittime di questo terribile incidente e per le loro famiglie. La mobilitazione dello Stato è totale per fornire loro aiuto\". Così il presidente francese Emmanuel Macron , in un tweet. Toutes mes pensées pour les victimes de ce terrible accident d'un bus scolaire et pour leurs familles. La mobilisation de l'État est totale pour leur porter secours. — Emmanuel Macron (@EmmanuelMacron) 14 dicembre 2017 La prefettura parla di incidente \"grave\", precisando che è avvenuto nel comune di Millas, sull'asse ferroviario Perpignan-Villefranche de Conflent, intorno alle 16. Il bus, che trasportava i ragazzi dal liceo di Millas ai comuni di Saint-Féliu-d'Amont e Saint-Féliu-d'Avall, è stato centrato da un treno regionale RER. L'autobus si è spaccato in due nell'impatto. Il traffico ferroviario tra Villefranche e Perpignan è interrotto. Francia, scuolabus travolto da un treno: i mezzi di soccorso sul luogo dell'incidente. Le cause del disastro, soprattutto il perché di quello scuolabus sui binari, sono tutte da chiarire. Quel passaggio a livello era considerato pericoloso, scrive Le Figaro ricordando precedenti \"incidenti minori\". Da parte sua, Sncf fa sapere che il convoglio viaggiava a 80 all'ora al momento dell'incidente. Quanto al passaggio a livello, un dirigente dell'authority francese del trasporto ferroviario ha dichiarato all'Ap che, secondo testimoni, era funzionante e, soprattutto, chiuso. \"Diversi testimoni hanno detto di aver visto la barra abbassata. Inoltre, il passaggio a livello era ben equipaggiato di luci e aggiornato alle ultime tecnologie. Sarà l'inchiesta a determinare se tutto stesse funzionando correttamente\". Tra le testimonianze c'è quella di Barbara, una passeggera del treno, riportata dal sito del quotidiano locale L'Indépendant : \"L'urto è stato violento. Avevamo l'impressione che il treno stesse per deragliare piegandosi di lato\". Parla anche il sindaco di Perpignan, Jean-Marc Pujol: \"Lo scenario è quello di una catastrofe. Le famiglie sono distrutte. Sono stato in una sala, tra i parenti, che sono nello sconforto più assoluto - dice a France Bleus -. E' necessario che intervengano rapidamente degli psicologi per fornire loro sostegno, sono totalmente annientate\". L'unità di psicologi sarà attivata venerdì mattina. Francia, la carcassa dello scuolabus travolto dal treno La ministra dei Trasporti, Elisabeth Borne , esprime su Twitter \"profondo cordoglio per il terribile incidente a Millas, nel dipartimento dei Pirenei-Orientali. I soccorsi e i servizi dello Stato sono pienamente mobilitati. Mi reco sul posto immediatamente\". \"La Francia è in lutto\" dichiara il ministro dell'Istruzione, Jean-Michel Blanquer , come la collega in viaggio verso Millas. Très vive émotion suite au terrible accident survenu à #Millas dans les Pyrénées-Orientales. Les secours et les services de l'Etat sont pleinement mobilisés. Je me rends sur place immédiatement. — Elisabeth BORNE (@Elisabeth_Borne) 14 dicembre 2017 La compagnia ferroviaria francese, Sncf, ha rivolto \"alle vittime e alle loro famiglie un sincero messaggio di sostegno\". Sul posto, oltre ai ministri, è atteso anche il numero uno di Sncf, Guillaume Pépy. Il prefetto di zona ha attivato un centro operativo per coordinare l'intervento dei soccorsi. Accident routier sur un passage à niveau à #Millas . SNCF adresse aux victimes et à leurs familles un sincère message de soutien. — Groupe SNCF (@GroupeSNCF) 14 dicembre 2017 L'incidente è uno dei più gravi nel trasporto di bambini dal dramma di Beaune nel 1982 (53 morti di cui 44 bambini). A causa dell'impatto, violentissimo, tra il treno regionale e lo scuolabus al passaggio a livello di Los Palos, il riconoscimento delle vittime è stato particolarmente difficile, tanto più che le autorità non disponevano di \"liste\" con i nomi degli alunni a bordo. Sul posto è stata attivata una cellula psicologica. La scuola Christian-Bourquin di Millau oggi resterà aperta affinché \"gli studenti possano parlare\". Il conducente del treno è stato interrogato dalla procuratore di Perpignan, Jean-Jacques Fagni. Altre audizioni sono attualmente in corso. Intanto, non si ferma il fiume di messaggi di cordoglio e solidarietà da tutta la Francia.",
                  "repubblica"
                ],
                [
                  "1",
                  "Forte Braschi, così gli 007 spiavano durante la Guerra Fredda. Esposta Enigma, macchina dei codici cifrati nazisti",
                  "ROMA - In una galleria sotterranea dell'ottocentesco Forte Braschi, museo dell' intelligence , spicca in bella mostra un originale della Macchina Enigma, usata dall'Esercito e dalla Marina tedesca fino a tutta la Seconda Guerra mondiale per parlare con Tokyo e Berlino. Una fama paradossalmente dovuta al suo fallimento che ne fa una sorta di Titanic della crittografia: fu violata infatti dai servizi segreti Polacchi e poi inglesi. Accanto alla Enigma resa celebre anche da numerosi film su di lei, come The imitation game , del 2014, o Enigma , del 2001, una cravatta a pallini rossi con micro-obiettivo cucito al suo interno, macchine fotografiche minuscole (ma ancora con la pellicola), carte geografiche e goniometri per individuare le centrali trasmittenti nemiche. Oltre alla Macchina Enigma, nel museo è esposta anche una foto della torre aragonese di Alghero, dove si trova la sede dell'operazione Gladio , il servizio segreto parallelo nell'ambito del programma internazionale stay behind svelato negli anni Novanta. • MUSEO 007 PER LA PRIMA VOLTA APERTO ALLE SCUOLE Il museo dei segreti degli 007 italiani è stato aperto oggi per la prima volta a un numero ristretto di giornalisti e a due classi dell'esclusivo liceo romano Convitto Nazionale. Prossimamente l'invito sarà rivolto a tutte le scuole. In via Ventura, numero inesistente, si trova una parete metallica alta alcuni metri di quelle usate per delimitare le zone militari. Ovunque cartelli \"limite invalicabile\", e \"divieto di riprese e foto\". Decine di telecamere tengono d'occhio la via. Ad un certo punto si apre un cancello. Dall'altra parte un militare fa cenno di entrare. \"Parcheggi là, lasci sull'auto telefonino e ogni apparecchiatura elettronica\". Tutti i segreti di Forte Braschi, la macchina enigma e le microcamere nella sede dell'intelligence. • L'INGRESSO NEL FORTINO DEI MISTERI D'ITALIA Forte Braschi, benvenuti nel quartier generale dei servizi segreti che si occupa della sicurezza degli interessi italiani all'Estero. Aise in sigla. Direttore, Alberto Manenti . Forte Braschi è stata la sede storica della intelligence italiana da almeno un secolo, in particolare dal Dopoguerra: si dice che nei suoi archivi siano custoditi i documenti più segreti dei misteri della Repubblica . Sopravviverà al trasferimento delle sedi degli 007 in Piazza Dante . È anche il bunker nel quale è allestita la sala d'emergenza in grado di ospitare il governo italiano in caso di emergenza nazionale. La sala segreta di Palazzo Chigi è dedicata (con tanto di busto in bronzo), all'ammiraglio Fulvio Martini (nome in codice Ulisse) lo storico comandante che al servizio segreto militare ha impresso una svolta. Un cambio di passo dopo gli anni della discussa strategia della tensione. • L'ACCESSO AL BUNKER: I RIGIDI CONTROLLI Il fortino pullula di uomini in borghese addetti alla sicurezza, un (quasi) invisibile auricolare li radio-collega tutti a una centrale di comando. La sicurezza elettronica della base dell'intelligence 2.0 è a livelli inimmaginabili: per entrare a Forte Braschi bisogna sottoporsi a un protocollo che è facile pensare sia attentamente predisposto direttamente dal controspionaggio: bisogna lasciare nome, cognome, data e luogo di nascita (e fin qui....). Poi residenza. Quindi targa del veicolo a bordo del quale si raggiunge il sito. E infine numero di cellulare. Quali controlli vengano fatti sugli ospiti non è dato sapere. Il video operatore non può riprendere volti, può registrare solo immagini 'autorizzate' e voci narranti. Forte Braschi, il Museo dell'Intelligence • \"LA MIGLIOR SICUREZZA? L'AFFIDABILITÁ DEL FATTORE UMANO\" \"Ma la sicurezza elettronica non garantisce al cento per cento\", ammonisce il direttore Aise Manenti. \"Qualche tempo fa - ricorda - si era presentato l'amministratore delegato di un'importante società che ci aveva offerto un costosissmo impianto per il controllo elettronico. A dir suo era perfetto e forse lo era per davvero. Peccato che la segretaria si era fatta reclutare da servizi nemici e aveva passato i codici rendendo inutilizzabile l'impianto\". \"Per questo - conclude Manenti - per me l'investimento migliore, in tema di 007, resta quello sulla professionalità degli agenti . Sul fattore uomo\". • IL CAMPETTO DI CALCIO, L'AUTO DI CALIPARI, LA STELE DEGLI EROI Subito a destra, all'ingresso, un campetto di calcio. A bordo di una navetta si raggiunge la palazzina degli uffici. All'ingresso è esposta l'auto sulla quale viaggiava Nicola Calipari il 4 marzo 2005, quando morì proteggendo col suo corpo la giornalista del Manifesto Giuliana Sgrena , rapita a Baghdad. Sul parabrezza e sul cofano anteriore i fori dei proiettili sparati dal fuoco 'amico' di un posto di blocco Usa. \"A futura memoria, per ricordarci dei rischi del nostro lavoro\" spiegano. In una saletta, la Stele di altri eroi del servizio: oltre a Calipari, Vincenzo Li Causi (uccisi in un agguato in Somalia il 12 novembre 1993), Lorenzo D'Auria (rapito e ucciso in Afghanistan il 4 ottobre 2007), e Pietro Antonio Colazzo (Morto a Kabul i 26 febbraio 2006). • YOUTUBER ROMANO RECLUTATO PER LO SPOT DEGLI 007 Da quando, nel 2007, è entrata in vigore la riforma sull' intelligence italiana che prevede fra l'altro di promuovere la cultura della sicurezza presso le scuole italiane, sono stati fatti sforzi per rendere - per quanto possibile - trasparente la struttura. Qualche anno fa è stato presentato al Forum della Pa, all'Eur, lo stand dei servizi segreti. Sono stati aperti bandi pubblici sul Web per l'arruolamento degli agenti al quale si può accedere con domande via e-mail. Sono state stipulate convenzioni con l'Università. Ora, per sensibilizzare giovani e studenti sulla consapevolezza digitale (inziativa Be Aware. Be Digital finanziata dalla Presidenza del Consiglio e voluta dal direttore del Dis Alessandro Pansa ), è stato realizzato un divertente spot reclutando (per così dire) il giovane youtuber romano Claudio Colica . • NEL MUSEO CIMELI E REPERTI DELLA STORIA DEI SERVIZI SEGRETI Il museo espone cimeli tecnologici usati dalle nostre spie in varie epoche. Dagli anni Trenta vengono sia il telefono inglese Set d mk , modificato dall'Esercito italiano per adattarlo alle linee telefoniche nazionali e usato sia a chiamata vocale che con il linguaggio morse che il modello americano EE- 8, che consentiva conversazioni telefoniche in entrambi i sensi anche a lunga distanza (fino a 25 km). Ma anche un separatore di linea Olivetti T2, utilizzato per anni nel settore delle teletrascriventi. Nelle teche anche la macchina Hagelin , la risposta americana alle macchine crittografiche tedesche della serie Enigma, e alcune macchine microfotografiche e quindi facilmente occultabili, come la svizzera Tessina, o la tedesca Minox. Chiudono l'esposizione i reperti degli anni Settanta - Ottanta; un ricevitore radio Collins 51S-1 , utilizzato in particolare nella guerra in Indocina, e usato nell'ambito del programma spaziale Apollo per le comunicazioni degli astronauti con le stazioni di terra. Il registratore audio a nastro magnetico Uher, uno dei più utilizzati per l'alta affidabilità. • IL FORTE TRA CURIOSITÁ, RUMOR E LEGGENDE Da sempre sui servizi segreti aleggiano leggende, girano rumor e voci, si inseguono curiosità. Anche su Forte Braschi ce ne sono. Come quella, ad esempio, che il direttore dell'Aise abbia fatto predisporre una spettacolare sala da pranzo accessibile con ascensore a vetrate, panorama su Roma, binocolo puntato sul Cupolone, nella quale ospitare i direttori dei servizi stranieri durante le colazioni di lavoro. Colazioni molto complicate da organizzare in locali pubblici vista la difficoltà di garantire la sicurezza per le strade di Roma. Lo chef - molto quotato - sarebbe specializzato nell'offrire menu che tengano conto delle abitudini culinarie e culturali degli ospiti.",
                  "repubblica"
                ],
                [
                  "2",
                  "Federico Motta: \"Vogliamo tornare a essere protagonisti\"",
                  "ROMA . \"Sono gli editori che vogliono e devono gestire il Salone del Libro, dovunque esso sia\". Il presidente Aie, Federico Motta, punta il dito contro la Fondazione per il Libro, la Musica e la Cultura: \"È uno strumento nella politica culturale del territorio di Torino. Gli editori vogliono altro\". Cosa? \"Un progetto di promozione della lettura che duri un anno, che non trascuri il sud, che coinvolga anche librai e bibliotecari. Un progetto che in Italia oggi non c'è e di cui il Salone faccia parte\". Che Salone vogliono gli editori? \"Un Salone di respiro nazionale e internazionale, che sia aperto al grande pubblico, ma capace di attrarre tutto il mondo che ruota intorno al libro. Ad esempio, dal punto di vista internazionale bisogna sviluppare momenti legati agli scambi dei diritti\". Il presidente del Piemonte, Sergio Chiamparino, e la sindaca di Torino, Chiara Appendino, dopo gli arresti di ieri mattina hanno ribadito la volontà di rinnovare la governance del Salone. \"Li incontrerò per sentire in cosa consiste, nei fatti, questa riforma\". Ma intanto si è ipotizzato lo spostamento del Salone a Milano... \"Gli editori vogliono essere i protagonisti, staranno là dove ci saranno le migliori condizioni per portare avanti il loro progetto\". Torino però ha il sostegno del governo... \"Io non so perché il Mibact abbia deciso di entrare nella Fondazione e di sostenerla... Ma so che noi l'abbiamo abbandonata perché non condividevamo il modello di gestione e perché non contavamo più nulla\".",
                  "repubblica"
                ],
                [
                  "3",
                  "Unioni civili, l'ultima sfida di Renzi: \"Ho rischiato l'osso del collo, ora convincerò gay e cattolici\"",
                  "ROMA . \"La faccia ce l'ho messa. Anzi, ho fatto di più: con la fiducia ho rischiato l'osso del collo\". Il Senato ha appena approvato la travagliata legge sulle unioni civili . Matteo Renzi tira un sospiro di sollievo. Si era giocato molte delle sue carte pur di approvare un provvedimento che parte dei suoi collaboratori consideravano un passe-partout per aprire le porte della sinistra del suo partito e del suo elettorato. Il testo Cirinnà , da banco di prova per il partito che si era attestato sulla libertà di coscienza, si è trasformato in un test per il governo. Per la prima volta è stata posta la fiducia su una materia tutta interna ai temi etici. Un cambio di schema che lo stesso Renzi ha accettato solo in extremis. A scrutinio avvenuto, allora, prima di andare a vedere la purtroppo sfortunata partita della Fiorentina in Europa League contro il Tottenham, al telefono rivendica l'operazione chiusa a Palazzo Madama come un successo. \"Dico solo una cosa - premette - ho avuto proprio ora un colloquio con Obama. E tra le altre cose, si è congratulato proprio per questa legge\". Unioni civili, Tito: \"Un compromesso, ma dopo decenni di attesa un risultato c'è\". Per il premier, insomma, è un \"risultato storico\". Su Facebook ha addirittura scritto che \"ha vinto l'amore\". Si tratta di una norma che l'Italia aspettava da anni. Dai Dico ai Pacs, più volte è naufragata tra i corridoi dei Palazzi. Il segretario Pd sa però che intorno a questo passaggio si scatenerà un putiferio per i voti di Verdini. Il gruppo dell'ex forzista si è di fatto unito a quelli della maggioranza. Diciotto sì che, a detta dello stesso Verdini, saranno parte strutturale della coalizione governativa. Non è un caso che la minoranza dem abbia già alzato le barricate. Chiede un chiarimento e soprattutto il congresso anticipato. Il segretario democratico non sembra preoccuparsene. L'idea di fare entrare i verdiniani nell'esecutivo non lo sfiora. Però si tiene distante. Evita accuratamente l'argomento. \"Verdini? Ora vado a vedere la partita\", si affanna a ripetere. Il punto, insiste, non è questo. \"Se tre mesi fa ci avessero detto che il Senato avrebbe approvato una legge sulle unioni civili, una cosa che il Paese aspetta da trent'anni, nessuno ci avrebbe creduto\". Molti, però, sostengono che lei abbia insistito tanto per dimostrare di poter fare una cosa di sinistra. Qualcuno dei suoi fedelissimi la considera la mossa più progressista compiuta in questi due anni. \"Io veramente - risponde - continuo a pensare che questo governo abbia condotto in porto diversi provvedimenti di sinistra. Penso agli 80 euro per i meno abbienti, alla responsabilità civile dei magistrati, al taglio dell'Irap. E soprattutto penso al jobs act\". \"Vi ricordate Berlusconi che ci ha rotto per anni con la storia di un milione di posti di lavoro? Ecco - è la sua spiegazione - l'Istat ci ha detto che i nuovi contratti a tempo indeterminato sono 764 mila. Mi dicono che buona parte sono per gli incentivi fiscali? E va bene. Ma l'altra parte è per il jobs act. E comunque per misure varate da questo governo\". Il premier ammette che questa partita non è stata come le altre. Ha temuto di non potercela fare. Per il tipo di coinvolgimento emotivo del mondo omosessuale e anche di ambienti importanti del mondo cattolico. E infine per come si stava orientando il confronto in Parlamento. \"Una settimana fa - ricorda - era saltato tutto. Il M5S voleva mandarmi sotto. Il loro unico obiettivo era bloccare tutto. Altro che storie\". In effetti i cattolici non hanno gradito. La Cei ha confermato la scorsa settimana di stare su un fronte opposto e il leader del Family day, Gandolfini, le ha promesso vendetta in occasione del referendum costituzionale del prossimo ottobre. Una promessa che ha tutti i crismi della sfida. \"So bene che è una minaccia. Vorrebbero portare tutti i cattolici a votare no. Ma vediamo con chi sta davvero il mondo cattolico al referendum. Noi andremo in tutte le parrocchie a spiegare le ragioni della riforma. Ho grande rispetto, ma l'idea che qualcuno mi possa fermare con una minaccia... se vogliono trasformare il referendum in un giudizio universale sul mio esecutivo, bene. Affronteremo questo giudizio\". A contestare, però, ci sono anche i rappresentanti dei gay. Aver rinunciato alla stepchild adoption non li ha certo indotti ad apprezzare questo nuovo testo. \"Eppure sono sicuro che anche quelli che adesso protestano, alla fine riconosceranno che si è fatto un passo avanti importante. Anzi, si tratta di un passo storico per l'Italia. La verità è che l'immobilismo in questo Paese è finito. Ora si fanno le riforme. E anche questa è una riforma\".",
                  "repubblica"
                ],
                [
                  "4",
                  "Robert Armstrong del Mit: \"Siamo vicini al solare economico\"",
                  "\"Abbiamo due sfide davanti a noi: de-carbonizzare il sistema energetico e, allo stesso tempo, far fronte a una domanda globale di energia che al 2050 raddoppierà a causa della crescita demografica ed economica della popolazione\". Parola di Robert Armstrong, direttore del MIT Energy Initiative, l'iniziativa creata dal Massachusetts Institute of Technology per contribuire a rendere più sostenibile il sistema mondiale e alla quale Eni aderisce dal 2008 come membro fondatore, sostenendo numerose ricerche. Qual è il significato di questa partnership? \"Fin dalla sua creazione il MIT Energy Initiative ha come obiettivo la stretta collaborazione con l'industria dell'energia. Siamo convinti che questo legame permetta alla ricerca di avere accesso all'expertise delle aziende e alle tecnologie sviluppate di trovare applicazione commerciale su larga scala. Quella con Eni è una collaborazione coinvolgente con uno scambio continuo di esperienze e competenze. In questi anni abbiamo ricevuto oltre 250 visite da dipendenti dell'azienda e 40 professori del MIT sono stati coinvolti in vari progetti di ricerca\". Quali sono le principali linee di ricerca? \"Nel campo degli idrocarburi studiamo tecnologie di aumento del fattore di recupero del greggio. In particolare l'impiego di nanoemulsioni: dispersioni piccolissime di acqua in olio che aiutano a catturare più petrolio dai giacimenti in uso. Un'applicazione che servirebbe anche a minimizzare l'impatto ambientale delle operazioni di estrazione\". Mentre nell'ambito delle rinnovabili? \"Abbiamo creato il Solar Frontiers Center per condurre ricerche su materiali per lo sfruttamento del solare. Un obiettivo è andare oltre il silicio come tecnologia fotovoltaica e sostituirlo con materiali organici. Puntiamo alla creazione di una nuova generazione di celle fotovoltaiche più economiche di quelle attuali e, quindi, adatte in particolare allo sviluppo del solare anche in Africa, dove il potenziale di quest'energia rinnovabile è enorme\". Quando sarà realtà il fotovoltaico a basso costo? \"Materiali fotovoltaici avanzati potrebbero arrivare alla fase di scaleup entro il 2040. Stiamo già facendo studi di fattibilità in Egitto e in Africa sub-sahariana\". La vostra ricerca guarda anche al solare a concentrazione. Che prospettive concrete intravede qui? \"Sinora il limite di questa tecnologia era il suo alto costo d'investimento. Così ci siamo concentrati sulla progettazione di un prototipo di ricevitore parabolico economico e siamo riusciti a ridurre molto i costi. Se questo risparmio potrà essere confermato su scala commerciale, si farà strada una distribuzione sostenibile del solare a concentrazione, con centrali potenti come quelle nucleari ma che sfruttano una risorsa gratuita\".",
                  "repubblica"
                ]
              ],
              "shape": {
                "columns": 3,
                "rows": 5
              }
            },
            "text/html": [
              "<div>\n",
              "<style scoped>\n",
              "    .dataframe tbody tr th:only-of-type {\n",
              "        vertical-align: middle;\n",
              "    }\n",
              "\n",
              "    .dataframe tbody tr th {\n",
              "        vertical-align: top;\n",
              "    }\n",
              "\n",
              "    .dataframe thead th {\n",
              "        text-align: right;\n",
              "    }\n",
              "</style>\n",
              "<table border=\"1\" class=\"dataframe\">\n",
              "  <thead>\n",
              "    <tr style=\"text-align: right;\">\n",
              "      <th></th>\n",
              "      <th>headline</th>\n",
              "      <th>full_text</th>\n",
              "      <th>newspaper</th>\n",
              "    </tr>\n",
              "  </thead>\n",
              "  <tbody>\n",
              "    <tr>\n",
              "      <th>0</th>\n",
              "      <td>Francia, treno travolge scuolabus: cinque stud...</td>\n",
              "      <td>PARIGI - Uno scuolabus è stato travolto da un ...</td>\n",
              "      <td>repubblica</td>\n",
              "    </tr>\n",
              "    <tr>\n",
              "      <th>1</th>\n",
              "      <td>Forte Braschi, così gli 007 spiavano durante l...</td>\n",
              "      <td>ROMA - In una galleria sotterranea dell'ottoce...</td>\n",
              "      <td>repubblica</td>\n",
              "    </tr>\n",
              "    <tr>\n",
              "      <th>2</th>\n",
              "      <td>Federico Motta: \"Vogliamo tornare a essere pro...</td>\n",
              "      <td>ROMA . \"Sono gli editori che vogliono e devono...</td>\n",
              "      <td>repubblica</td>\n",
              "    </tr>\n",
              "    <tr>\n",
              "      <th>3</th>\n",
              "      <td>Unioni civili, l'ultima sfida di Renzi: \"Ho ri...</td>\n",
              "      <td>ROMA . \"La faccia ce l'ho messa. Anzi, ho fatt...</td>\n",
              "      <td>repubblica</td>\n",
              "    </tr>\n",
              "    <tr>\n",
              "      <th>4</th>\n",
              "      <td>Robert Armstrong del Mit: \"Siamo vicini al sol...</td>\n",
              "      <td>\"Abbiamo due sfide davanti a noi: de-carbonizz...</td>\n",
              "      <td>repubblica</td>\n",
              "    </tr>\n",
              "  </tbody>\n",
              "</table>\n",
              "</div>"
            ],
            "text/plain": [
              "                                            headline  \\\n",
              "0  Francia, treno travolge scuolabus: cinque stud...   \n",
              "1  Forte Braschi, così gli 007 spiavano durante l...   \n",
              "2  Federico Motta: \"Vogliamo tornare a essere pro...   \n",
              "3  Unioni civili, l'ultima sfida di Renzi: \"Ho ri...   \n",
              "4  Robert Armstrong del Mit: \"Siamo vicini al sol...   \n",
              "\n",
              "                                           full_text   newspaper  \n",
              "0  PARIGI - Uno scuolabus è stato travolto da un ...  repubblica  \n",
              "1  ROMA - In una galleria sotterranea dell'ottoce...  repubblica  \n",
              "2  ROMA . \"Sono gli editori che vogliono e devono...  repubblica  \n",
              "3  ROMA . \"La faccia ce l'ho messa. Anzi, ho fatt...  repubblica  \n",
              "4  \"Abbiamo due sfide davanti a noi: de-carbonizz...  repubblica  "
            ]
          },
          "execution_count": 21,
          "metadata": {},
          "output_type": "execute_result"
        }
      ],
      "source": [
        "df = pd.read_csv(\"data/repubblica_sample.csv\")\n",
        "\n",
        "# add a column with the newspaper name\n",
        "df['newspaper'] = 'repubblica'\n",
        "\n",
        "# Print df columns\n",
        "print(df.columns)\n",
        "\n",
        "df.head()"
      ]
    },
    {
      "cell_type": "markdown",
      "metadata": {},
      "source": [
        "### 1. Text cleaning"
      ]
    },
    {
      "cell_type": "code",
      "execution_count": 22,
      "metadata": {},
      "outputs": [],
      "source": [
        "import unicodedata\n",
        "\n",
        "def apply_text_cleaning(text):\n",
        "    # 1. Remove HTML tags\n",
        "    text = BeautifulSoup(text, \"html.parser\").get_text()\n",
        "\n",
        "    # 2. Normalize curly quotes and dashes\n",
        "    text = text.replace(\"’\", \"'\").replace(\"‘\", \"'\") \\\n",
        "               .replace(\"“\", '\"').replace(\"”\", '\"') \\\n",
        "               .replace(\"–\", \"-\").replace(\"—\", \"-\")\n",
        "\n",
        "    # Optional: normalize Unicode characters to ASCII (e.g., é → e)\n",
        "    # text = unicodedata.normalize(\"NFKD\", text).encode(\"ascii\", \"ignore\").decode(\"utf-8\")\n",
        "\n",
        "    # 3. Remove URLs and email addresses\n",
        "    text = re.sub(r\"http\\S+|www\\S+|https\\S+\", '', text)\n",
        "    text = re.sub(r'\\S+@\\S+', '', text)\n",
        "\n",
        "    # 4. Lowercase\n",
        "    text = text.lower()\n",
        "\n",
        "    # 5. Remove punctuation (keep straight apostrophes and dashes)\n",
        "    text = re.sub(r\"[^\\w\\s]\", '', text)\n",
        "\n",
        "    # 6. Remove digits\n",
        "    text = re.sub(r'\\d+', '', text)\n",
        "\n",
        "    # 7. Tokenize and remove stopwords\n",
        "    sentences = italian_tokenizer.tokenize(text)\n",
        "    tokens = [word for sent in sentences for word in sent.split()]\n",
        "    tokens = [word for word in tokens if word not in stop_words]\n",
        "\n",
        "    return ' '.join(tokens)\n"
      ]
    },
    {
      "cell_type": "markdown",
      "metadata": {},
      "source": [
        "### 2. Stemming"
      ]
    },
    {
      "cell_type": "code",
      "execution_count": 23,
      "metadata": {},
      "outputs": [],
      "source": [
        "# Create italian stemmer\n",
        "stemmer = SnowballStemmer(\"italian\")\n",
        "\n",
        "def apply_stemming(text):\n",
        "    tokens = text.split()\n",
        "    stemmed_tokens = [stemmer.stem(word) for word in tokens]\n",
        "    return ' '.join(stemmed_tokens)\n"
      ]
    },
    {
      "cell_type": "markdown",
      "metadata": {},
      "source": [
        "### 3. Spell checking"
      ]
    },
    {
      "cell_type": "code",
      "execution_count": 26,
      "metadata": {},
      "outputs": [],
      "source": [
        "# Initialize the spell checker once for efficiency\n",
        "spell = Speller(lang='it')\n",
        "\n",
        "# Define vowels including accented ones\n",
        "vowels = set('aeiouAEIOUàèéìòùÀÈÉÌÒÙ')\n",
        "\n",
        "def apply_spell_check(text):\n",
        "    \"\"\"\n",
        "    Reduces repeated vowels and consonants in a word \n",
        "    (1 max for vowels including accented, 2 max for consonants),\n",
        "    then applies spell correction.\n",
        "\n",
        "    Args:\n",
        "        text (str): Input text to correct\n",
        "\n",
        "    Returns:\n",
        "        str: Corrected text\n",
        "    \"\"\"\n",
        "    # Group consecutive identical characters\n",
        "    grouped_chars = itertools.groupby(text)\n",
        "\n",
        "    # Apply max 1 repetition for vowels, max 2 for consonants\n",
        "    cleaned_text = ''.join(\n",
        "        ''.join(group)[:1] if char in vowels else ''.join(group)[:2]\n",
        "        for char, group in grouped_chars\n",
        "    )\n",
        "\n",
        "    # Apply spell correction\n",
        "    corrected_text = spell(cleaned_text)\n",
        "    \n",
        "    return corrected_text\n"
      ]
    },
    {
      "cell_type": "markdown",
      "metadata": {},
      "source": [
        "### Try methods on a sample sentence (playground)"
      ]
    },
    {
      "cell_type": "code",
      "execution_count": null,
      "metadata": {},
      "outputs": [
        {
          "name": "stdout",
          "output_type": "stream",
          "text": [
            "Sample text: I giornalisti stavano scrivendo articoli mooooooltttttto interessanti sull'inteligensa artificiale.\n",
            "After spell checking: I giornalisti stavano scrivendo articoli molto interessanti sull'intelligenza artificiale.\n",
            "Clean text: giornalisti scrivendo articoli interessanti sullintelligenza artificiale\n",
            "After stemming: giornal scriv articol interess sullintelligt artificial\n"
          ]
        }
      ],
      "source": [
        "sample_text = \"I giornalisti stavano scrivendo articoli mooooooltttttto interessanti sull'inteligensa artificiale.\"\n",
        "print(\"Sample text:\", sample_text)\n",
        "\n",
        "# Phase 1: spell checking\n",
        "corrected = apply_spell_check(sample_text)\n",
        "print(\"After spell checking:\", corrected)\n",
        "\n",
        "# Phase 2: cleaning\n",
        "cleaned = apply_text_cleaning(corrected)\n",
        "print(\"After cleaning text:\", cleaned)\n",
        "\n",
        "# Phase 3: stemming\n",
        "stemmed = apply_stemming(cleaned)\n",
        "print(\"After stemming:\", stemmed)\n",
        "\n"
      ]
    },
    {
      "cell_type": "markdown",
      "metadata": {},
      "source": [
        "### Apply text cleaning to the dataset"
      ]
    },
    {
      "cell_type": "code",
      "execution_count": null,
      "metadata": {},
      "outputs": [],
      "source": [
        "# Apply text cleaning\n",
        "df['cleaned_text'] = df['full_text'].apply(apply_text_cleaning)\n",
        "df['stemmed_text'] = df['cleaned_text'].apply(apply_stemming)\n"
      ]
    },
    {
      "cell_type": "markdown",
      "metadata": {},
      "source": [
        "### Compute word frequency (using **Counter** method)"
      ]
    },
    {
      "cell_type": "code",
      "execution_count": null,
      "metadata": {},
      "outputs": [],
      "source": [
        "# Join all cleaned texts into a single list of words\n",
        "all_words = ' '.join(df['cleaned_text']).split()\n",
        "\n",
        "# Count the frequency of each word\n",
        "word_freq = Counter(all_words)"
      ]
    },
    {
      "cell_type": "code",
      "execution_count": null,
      "metadata": {},
      "outputs": [],
      "source": [
        "# Show the 10 most frequent words\n",
        "print(\"Most frequent words:\")\n",
        "print(word_freq.most_common(10))\n",
        "\n",
        "# Show the 10 least frequent words\n",
        "print(\"\\nLeast frequent words:\")\n",
        "print(word_freq.most_common()[-10:])"
      ]
    },
    {
      "cell_type": "markdown",
      "metadata": {},
      "source": [
        "### 🛠️ Define a function to plot word frequencies"
      ]
    },
    {
      "cell_type": "code",
      "execution_count": null,
      "metadata": {},
      "outputs": [],
      "source": [
        "def plot_top_words(word_freq, title, top_n=10, color='#4C72B0'):\n",
        "    # Get the top N words and their counts\n",
        "    words, counts = zip(*word_freq.most_common(top_n))\n",
        "    \n",
        "    # Create figure\n",
        "    plt.figure(figsize=(12, 6))\n",
        "    bars = sns.barplot(x=list(words), y=list(counts), color=color)\n",
        "\n",
        "    # Annotate bars with counts\n",
        "    for i, count in enumerate(counts):\n",
        "        bars.text(i, count + max(counts)*0.01, str(count), \n",
        "                  ha='center', va='bottom', fontsize=10, fontweight='bold')\n",
        "\n",
        "    # Improve aesthetics\n",
        "    plt.title(title, fontsize=16, fontweight='bold')\n",
        "    plt.xlabel(\"Words\", fontsize=12)\n",
        "    plt.ylabel(\"Frequency\", fontsize=12)\n",
        "    plt.xticks(rotation=45, fontsize=10)\n",
        "    plt.yticks(fontsize=10)\n",
        "    plt.tight_layout()\n",
        "    plt.show()\n"
      ]
    },
    {
      "cell_type": "markdown",
      "metadata": {},
      "source": [
        "### Apply the plot_top_word to before/after word frequencies"
      ]
    },
    {
      "cell_type": "code",
      "execution_count": null,
      "metadata": {},
      "outputs": [],
      "source": [
        "from collections import Counter\n",
        "\n",
        "# Recalculate frequencies\n",
        "freq_before = Counter(' '.join(df['full_text']).split())\n",
        "freq_after = Counter(' '.join(df['cleaned_text']).split())\n",
        "\n",
        "# Plot comparison\n",
        "plot_top_words(freq_before, \"Top 10 Most Frequent Words (Before Filtering)\", color='#1f77b4')\n",
        "plot_top_words(freq_after, \"Top 10 Most Frequent Words (After Filtering)\", color='#ff7f0e')\n"
      ]
    },
    {
      "cell_type": "markdown",
      "metadata": {},
      "source": [
        "### Define frequent and rare word sets"
      ]
    },
    {
      "cell_type": "code",
      "execution_count": null,
      "metadata": {},
      "outputs": [],
      "source": [
        "# Create sets of most and least frequent words\n",
        "most_common = set([word for word in word_freq.most_common(10)])\n",
        "least_common = set([word for word in word_freq.most_common()[-10:]])\n",
        "\n",
        "print(\"Words to remove (most frequent):\", most_common)\n",
        "print(\"Words to remove (least frequent):\", least_common)\n"
      ]
    },
    {
      "cell_type": "markdown",
      "metadata": {},
      "source": [
        "### 🛠️ Define the filtering function"
      ]
    },
    {
      "cell_type": "code",
      "execution_count": null,
      "metadata": {},
      "outputs": [],
      "source": [
        "# Function to remove both most and least frequent words from a text\n",
        "def remove_common_rare_words(text):\n",
        "    tokens = text.split()\n",
        "    return ' '.join([word for word in tokens if word not in most_common and word not in least_common])\n"
      ]
    },
    {
      "cell_type": "markdown",
      "metadata": {},
      "source": [
        "### 🧪 Apply filtering and compare results"
      ]
    },
    {
      "cell_type": "code",
      "execution_count": null,
      "metadata": {},
      "outputs": [],
      "source": [
        "# Apply the filtering function to the cleaned texts\n",
        "df['final_text'] = df['cleaned_text'].apply(remove_common_rare_words)\n",
        "\n",
        "# Show comparison between original, cleaned, and final versions\n",
        "df[['full_text', 'cleaned_text', 'final_text']].head()"
      ]
    },
    {
      "cell_type": "markdown",
      "metadata": {},
      "source": [
        "### ☁️ Generate word clouds (before and after)"
      ]
    },
    {
      "cell_type": "code",
      "execution_count": null,
      "metadata": {},
      "outputs": [],
      "source": [
        "# Create word cloud from cleaned_text (before filtering)\n",
        "text_before = ' '.join(df['full_text'])\n",
        "wordcloud_before = WordCloud(width=800, height=400, background_color='white').generate(text_before)\n",
        "\n",
        "# Create word cloud from final_text (after filtering)\n",
        "text_after = ' '.join(df['final_text'])\n",
        "wordcloud_after = WordCloud(width=800, height=400, background_color='white').generate(text_after)\n"
      ]
    },
    {
      "cell_type": "code",
      "execution_count": null,
      "metadata": {},
      "outputs": [],
      "source": [
        "# Set up the figure\n",
        "plt.figure(figsize=(16, 6))\n",
        "\n",
        "# Word cloud before filtering\n",
        "plt.subplot(1, 2, 1)\n",
        "plt.imshow(wordcloud_before, interpolation='bilinear')\n",
        "plt.title(\"Word Cloud – Before Filtering\", fontsize=14)\n",
        "plt.axis('off')\n",
        "\n",
        "# Word cloud after filtering\n",
        "plt.subplot(1, 2, 2)\n",
        "plt.imshow(wordcloud_after, interpolation='bilinear')\n",
        "plt.title(\"Word Cloud – After Filtering\", fontsize=14)\n",
        "plt.axis('off')\n",
        "\n",
        "plt.tight_layout()\n",
        "plt.show()\n"
      ]
    }
  ],
  "metadata": {
    "kernelspec": {
      "display_name": "Python 3",
      "language": "python",
      "name": "python3"
    },
    "language_info": {
      "codemirror_mode": {
        "name": "ipython",
        "version": 3
      },
      "file_extension": ".py",
      "mimetype": "text/x-python",
      "name": "python",
      "nbconvert_exporter": "python",
      "pygments_lexer": "ipython3",
      "version": "3.12.2"
    }
  },
  "nbformat": 4,
  "nbformat_minor": 2
}
